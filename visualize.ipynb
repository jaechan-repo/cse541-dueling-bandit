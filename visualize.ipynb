{
 "cells": [
  {
   "cell_type": "code",
   "execution_count": 1,
   "metadata": {},
   "outputs": [],
   "source": [
    "%matplotlib qt"
   ]
  },
  {
   "cell_type": "code",
   "execution_count": 6,
   "metadata": {},
   "outputs": [],
   "source": [
    "import numpy as np\n",
    "\n",
    "labels = ['BTM', 'IF1', 'MultiSBM', 'RMED', 'RUCB', 'SAVAGE', 'Sparring']\n",
    "regrets_mslr5 = np.load(\"regrets/mslr5.npy\")\n",
    "regrets_sushi16 = np.load(\"regrets/sushi16.npy\")\n",
    "regrets = regrets_mslr5\n",
    "title = 'Regret on MSLR with $K = 5$'"
   ]
  },
  {
   "cell_type": "code",
   "execution_count": 7,
   "metadata": {},
   "outputs": [],
   "source": [
    "from typing import List\n",
    "from numpy.typing import NDArray\n",
    "import seaborn as sns\n",
    "import pandas as pd\n",
    "import matplotlib.pyplot as plt\n",
    "\n",
    "horizon = 1_000_000\n",
    "n_repeats = 10\n",
    "sampling_rate = 1_000\n",
    "\n",
    "sns.set_style('white')\n",
    "\n",
    "df = {\"Regret\": [], \"Label\": [], 'Time step': []}\n",
    "for regret_many_runs, label in zip(regrets, labels):\n",
    "    regret_many_runs = regret_many_runs[:, ::sampling_rate]\n",
    "    df[\"Regret\"] += regret_many_runs.flatten().tolist()\n",
    "    df[\"Label\"] += [label] * (horizon // sampling_rate * n_repeats)\n",
    "    df[\"Time step\"] += list(range(0, horizon, sampling_rate)) * n_repeats\n",
    "df = pd.DataFrame(df)"
   ]
  },
  {
   "cell_type": "code",
   "execution_count": 8,
   "metadata": {},
   "outputs": [
    {
     "data": {
      "text/plain": [
       "<Axes: title={'center': 'Regret on SUSHI with $K = 16$'}, xlabel='Time step', ylabel='Regret'>"
      ]
     },
     "execution_count": 8,
     "metadata": {},
     "output_type": "execute_result"
    }
   ],
   "source": [
    "plt.figure(figsize=(10, 6))\n",
    "plt.title(title)\n",
    "sns.lineplot(data=df, x=\"Time step\", y=\"Regret\", errorbar=\"ci\", hue=\"Label\")"
   ]
  },
  {
   "cell_type": "code",
   "execution_count": 9,
   "metadata": {},
   "outputs": [
    {
     "name": "stderr",
     "output_type": "stream",
     "text": [
      "2024-05-22 15:22:16.651 python[19661:5679690] +[CATransaction synchronize] called within transaction\n",
      "2024-05-22 15:22:16.816 python[19661:5679690] +[CATransaction synchronize] called within transaction\n",
      "2024-05-22 15:22:28.621 python[19661:5679690] +[CATransaction synchronize] called within transaction\n",
      "2024-05-22 15:22:28.708 python[19661:5679690] +[CATransaction synchronize] called within transaction\n",
      "2024-05-22 15:22:44.747 python[19661:5679690] +[CATransaction synchronize] called within transaction\n",
      "2024-05-22 15:22:46.183 python[19661:5679690] +[CATransaction synchronize] called within transaction\n"
     ]
    }
   ],
   "source": [
    "plt.show()"
   ]
  },
  {
   "cell_type": "code",
   "execution_count": null,
   "metadata": {},
   "outputs": [],
   "source": []
  },
  {
   "cell_type": "code",
   "execution_count": null,
   "metadata": {},
   "outputs": [],
   "source": []
  }
 ],
 "metadata": {
  "kernelspec": {
   "display_name": "py310",
   "language": "python",
   "name": "python3"
  },
  "language_info": {
   "codemirror_mode": {
    "name": "ipython",
    "version": 3
   },
   "file_extension": ".py",
   "mimetype": "text/x-python",
   "name": "python",
   "nbconvert_exporter": "python",
   "pygments_lexer": "ipython3",
   "version": "3.10.14"
  }
 },
 "nbformat": 4,
 "nbformat_minor": 2
}
